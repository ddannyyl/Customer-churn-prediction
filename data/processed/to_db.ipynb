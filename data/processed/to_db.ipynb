{
 "cells": [
  {
   "cell_type": "code",
   "execution_count": 2,
   "metadata": {},
   "outputs": [
    {
     "ename": "ModuleNotFoundError",
     "evalue": "No module named 'pandas'",
     "output_type": "error",
     "traceback": [
      "\u001b[31m---------------------------------------------------------------------------\u001b[39m",
      "\u001b[31mModuleNotFoundError\u001b[39m                       Traceback (most recent call last)",
      "\u001b[36mCell\u001b[39m\u001b[36m \u001b[39m\u001b[32mIn[2]\u001b[39m\u001b[32m, line 2\u001b[39m\n\u001b[32m      1\u001b[39m \u001b[38;5;28;01mimport\u001b[39;00m\u001b[38;5;250m \u001b[39m\u001b[34;01msqlite3\u001b[39;00m\n\u001b[32m----> \u001b[39m\u001b[32m2\u001b[39m \u001b[38;5;28;01mimport\u001b[39;00m\u001b[38;5;250m \u001b[39m\u001b[34;01mpandas\u001b[39;00m\u001b[38;5;250m \u001b[39m\u001b[38;5;28;01mas\u001b[39;00m\u001b[38;5;250m \u001b[39m\u001b[34;01mpd\u001b[39;00m\n\u001b[32m      3\u001b[39m csv = \u001b[33mr\u001b[39m\u001b[33m\"\u001b[39m\u001b[33mdataset.csv\u001b[39m\u001b[33m\"\u001b[39m\n",
      "\u001b[31mModuleNotFoundError\u001b[39m: No module named 'pandas'"
     ]
    }
   ],
   "source": [
    "import sqlite3\n",
    "import pandas as pd\n",
    "csv = r\"dataset.csv\"\n"
   ]
  },
  {
   "cell_type": "code",
   "execution_count": 20,
   "metadata": {},
   "outputs": [
    {
     "name": "stdout",
     "output_type": "stream",
     "text": [
      "dataset.csv\n"
     ]
    }
   ],
   "source": [
    "def gender_dummy(x):\n",
    "    if x == 'Yes' or x == 'No': #Converts Yes to 1 and No to 0\n",
    "        return int(x == 'Yes')\n",
    "    if x == 'Male' or x == 'Female': #Converts Male to 1 and No to 0\n",
    "        return int(x == 'Male')\n",
    "    if 'No' in str(x): #Anything including No to -1, not eligible in the first place, consider leaving as 0 instead\n",
    "        return -1\n",
    "    else: #Leaving currently non quantifiable values as strings\n",
    "        return x\n",
    "    df = pd.read_csv(csv)\n",
    "\n",
    "# for col in df.columns:\n",
    "#     if col != 'InternetService':\n",
    "#         df[col] = df[col].apply(gender_dummy) #Apply all the conversions by iterating through columns\n",
    "\n",
    "print(csv)\n",
    "\n",
    "conn = sqlite3.connect('data_dummy.db') # Convert new data into a db, doesn't overwrite old CSV\n",
    "df.to_sql('CustomerInfo', conn, if_exists='replace', index=False)\n",
    "conn.close()\n"
   ]
  },
  {
   "cell_type": "code",
   "execution_count": null,
   "metadata": {},
   "outputs": [],
   "source": []
  },
  {
   "cell_type": "code",
   "execution_count": null,
   "metadata": {},
   "outputs": [],
   "source": []
  }
 ],
 "metadata": {
  "kernelspec": {
   "display_name": "Python 3",
   "language": "python",
   "name": "python3"
  },
  "language_info": {
   "codemirror_mode": {
    "name": "ipython",
    "version": 3
   },
   "file_extension": ".py",
   "mimetype": "text/x-python",
   "name": "python",
   "nbconvert_exporter": "python",
   "pygments_lexer": "ipython3",
   "version": "3.13.2"
  }
 },
 "nbformat": 4,
 "nbformat_minor": 2
}
