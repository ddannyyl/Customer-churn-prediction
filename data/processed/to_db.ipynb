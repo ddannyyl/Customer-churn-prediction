{
 "cells": [
  {
   "cell_type": "code",
   "execution_count": 7,
   "metadata": {},
   "outputs": [],
   "source": [
    "import pandas as pd\n",
    "csv = r\"../raw/Test.csv\"\n",
    "pd.set_option('future.no_silent_downcasting', True)"
   ]
  },
  {
   "cell_type": "code",
   "execution_count": 8,
   "metadata": {},
   "outputs": [],
   "source": [
    "def check_col(name, data):\n",
    "    types = []\n",
    "    count = {}\n",
    "    for val in data[name]:\n",
    "        if val not in types:\n",
    "            types.append(val)\n",
    "            count[val] = 1\n",
    "        else:   \n",
    "            count[val] += 1\n",
    "    return types"
   ]
  },
  {
   "cell_type": "code",
   "execution_count": 9,
   "metadata": {},
   "outputs": [
    {
     "ename": "NameError",
     "evalue": "name 'sqlite3' is not defined",
     "output_type": "error",
     "traceback": [
      "\u001b[31m---------------------------------------------------------------------------\u001b[39m",
      "\u001b[31mNameError\u001b[39m                                 Traceback (most recent call last)",
      "\u001b[36mCell\u001b[39m\u001b[36m \u001b[39m\u001b[32mIn[9]\u001b[39m\u001b[32m, line 15\u001b[39m\n\u001b[32m     12\u001b[39m     \u001b[38;5;28;01mif\u001b[39;00m col != \u001b[33m'\u001b[39m\u001b[33mInternetService\u001b[39m\u001b[33m'\u001b[39m:\n\u001b[32m     13\u001b[39m         df[col] = df[col].apply(green) \u001b[38;5;66;03m#Apply all the conversions by iterating through columns\u001b[39;00m\n\u001b[32m---> \u001b[39m\u001b[32m15\u001b[39m conn = \u001b[43msqlite3\u001b[49m.connect(\u001b[33m'\u001b[39m\u001b[33mmongey.db\u001b[39m\u001b[33m'\u001b[39m) \u001b[38;5;66;03m#Convert new data into a db, doesn't overwrite old CSV\u001b[39;00m\n\u001b[32m     16\u001b[39m df.to_sql(\u001b[33m'\u001b[39m\u001b[33mCustomerInfo\u001b[39m\u001b[33m'\u001b[39m, conn, if_exists=\u001b[33m'\u001b[39m\u001b[33mreplace\u001b[39m\u001b[33m'\u001b[39m, index=\u001b[38;5;28;01mFalse\u001b[39;00m)\n\u001b[32m     17\u001b[39m conn.close()\n",
      "\u001b[31mNameError\u001b[39m: name 'sqlite3' is not defined"
     ]
    }
   ],
   "source": [
    "def green(x):\n",
    "    if x == 'Yes' or x == 'No': #Converts Yes to 1 and No to 0\n",
    "        return int(x == 'Yes')\n",
    "    if x == 'Male' or x == 'Female': #Converts Male to 1 and No to 0\n",
    "        return int(x == 'Male')\n",
    "    if 'No' in str(x): #Anything including No to -1, not eligible in the first place, consider leaving as 0 instead\n",
    "        return -1\n",
    "    else: #Leaving currently non quantifiable values as strings\n",
    "        return x\n",
    "df = pd.read_csv(csv)\n",
    "for col in df.columns:\n",
    "    if col != 'InternetService':\n",
    "        df[col] = df[col].apply(green) #Apply all the conversions by iterating through columns\n",
    "        \n",
    "conn = sqlite3.connect('mongey.db') #Convert new data into a db, doesn't overwrite old CSV\n",
    "df.to_sql('CustomerInfo', conn, if_exists='replace', index=False)\n",
    "conn.close()\n"
   ]
  }
 ],
 "metadata": {
  "kernelspec": {
   "display_name": "Python 3",
   "language": "python",
   "name": "python3"
  },
  "language_info": {
   "codemirror_mode": {
    "name": "ipython",
    "version": 3
   },
   "file_extension": ".py",
   "mimetype": "text/x-python",
   "name": "python",
   "nbconvert_exporter": "python",
   "pygments_lexer": "ipython3",
   "version": "3.13.2"
  }
 },
 "nbformat": 4,
 "nbformat_minor": 2
}
