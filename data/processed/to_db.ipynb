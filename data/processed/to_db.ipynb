{
 "cells": [
  {
   "cell_type": "code",
   "execution_count": null,
   "metadata": {},
   "outputs": [],
   "source": [
    "import sqlite3\n",
    "import pandas as pd\n",
    "csv = r\"Test.csv\"\n",
    "pd.set_option('future.no_silent_downcasting', True)\n",
    "\n",
    "#Convert Yes and No to 0 and 1, export as csv, do regression in R, 95% CI"
   ]
  },
  {
   "cell_type": "code",
   "execution_count": 27,
   "metadata": {},
   "outputs": [],
   "source": [
    "def check_col(name, data):\n",
    "    types = []\n",
    "    count = {}\n",
    "    for val in data[name]:\n",
    "        if val not in types:\n",
    "            types.append(val)\n",
    "            count[val] = 1\n",
    "        else:   \n",
    "            count[val] += 1\n",
    "    return types"
   ]
  },
  {
   "cell_type": "code",
   "execution_count": 28,
   "metadata": {},
   "outputs": [
    {
     "data": {
      "text/plain": [
       "['Electronic check',\n",
       " 'Mailed check',\n",
       " 'Bank transfer (automatic)',\n",
       " 'Credit card (automatic)']"
      ]
     },
     "execution_count": 28,
     "metadata": {},
     "output_type": "execute_result"
    }
   ],
   "source": [
    "df = pd.read_csv(csv)\n",
    "\n",
    "df = df.replace({\"Yes\": 1, \"No\": 0, \"Male\": 1, \"Female\": 0})\n",
    "types = check_col(\"Contract\", df)\n",
    "df = df.replace({types[0]: 1/24, types[1]: 1/2, types[2]: 1})\n",
    "check_col(\"PaymentMethod\", df)"
   ]
  }
 ],
 "metadata": {
  "kernelspec": {
   "display_name": "Python 3",
   "language": "python",
   "name": "python3"
  },
  "language_info": {
   "codemirror_mode": {
    "name": "ipython",
    "version": 3
   },
   "file_extension": ".py",
   "mimetype": "text/x-python",
   "name": "python",
   "nbconvert_exporter": "python",
   "pygments_lexer": "ipython3",
   "version": "3.11.5"
  }
 },
 "nbformat": 4,
 "nbformat_minor": 2
}
