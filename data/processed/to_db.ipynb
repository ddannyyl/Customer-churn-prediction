{
 "cells": [
  {
   "cell_type": "code",
   "execution_count": null,
   "metadata": {},
   "outputs": [],
   "source": [
    "import pandas as pd\n",
    "csv = r\"../raw/Test.csv\"\n",
    "pd.set_option('future.no_silent_downcasting', True)"
   ]
  },
  {
   "cell_type": "code",
   "execution_count": null,
   "metadata": {},
   "outputs": [],
   "source": [
    "def check_col(name, data):\n",
    "    types = []\n",
    "    count = {}\n",
    "    for val in data[name]:\n",
    "        if val not in types:\n",
    "            types.append(val)\n",
    "            count[val] = 1\n",
    "        else:   \n",
    "            count[val] += 1\n",
    "    return types\n",
    "\n",
    "def reorder(arr):\n",
    "    take = []\n",
    "    for i in range (len(arr)):\n",
    "        if 'No' in arr[i]:\n",
    "            take.append(arr[i])\n",
    "    \n",
    "    for i in range (len(take)):\n",
    "        arr.remove(take[i])\n",
    "        arr.append(take[i])\n",
    "    \n",
    "    return arr\n",
    "\n",
    "def factor(name, data):\n",
    "    types = reorder(check_col(name, data))[:-1]\n",
    "    cats = {}\n",
    "    for col in types:\n",
    "        cats[col] = []\n",
    "        for val in data[name]:\n",
    "            if val == col:\n",
    "                cats[col].append(1)\n",
    "            else:\n",
    "                cats[col].append(0)\n",
    "    return cats"
   ]
  },
  {
   "cell_type": "code",
   "execution_count": null,
   "metadata": {},
   "outputs": [],
   "source": [
    "df = pd.read_csv(csv)\n",
    "\n",
    "categorical = [\"InternetService\", \"MultipleLines\", \"Contract\", \"PaymentMethod\"]\n",
    "\n",
    "for col in categorical:\n",
    "    type = reorder(check_col(col, df))\n",
    "    ins = pd.DataFrame(factor(col, df))\n",
    "    for i in range (len(type) - 1):\n",
    "        print(type[i])\n",
    "        df[type[i]] = ins[type[i]]\n",
    "\n",
    "\n",
    "df = df.replace({\"Yes\": 1, \"No\": 0, \"Male\": 1, \"Female\": 0, \"No internet service\": 0})\n",
    "df = df.drop(categorical, axis=1)\n",
    "df = df.rename(columns={\"Yes\": \"MultipleLines\"}) #Renaming column named Yes to MultipleLines for clarity\n",
    "df"
   ]
  },
  {
   "cell_type": "code",
   "execution_count": null,
   "metadata": {},
   "outputs": [],
   "source": [
    "df.to_csv(\"cleann.csv\", index=False)"
   ]
  }
 ],
 "metadata": {
  "kernelspec": {
   "display_name": "Python 3",
   "language": "python",
   "name": "python3"
  },
  "language_info": {
   "codemirror_mode": {
    "name": "ipython",
    "version": 3
   },
   "file_extension": ".py",
   "mimetype": "text/x-python",
   "name": "python",
   "nbconvert_exporter": "python",
   "pygments_lexer": "ipython3",
   "version": "3.12.5"
  }
 },
 "nbformat": 4,
 "nbformat_minor": 2
}
