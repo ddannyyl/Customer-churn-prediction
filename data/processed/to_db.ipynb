{
 "cells": [
  {
   "cell_type": "code",
   "execution_count": 16,
   "metadata": {},
   "outputs": [],
   "source": [
    "import sqlite3\n",
    "import pandas as pd\n",
    "csv = r\"Test.csv\""
   ]
  },
  {
   "cell_type": "code",
   "execution_count": 25,
   "metadata": {},
   "outputs": [
    {
     "data": {
      "text/plain": [
       "7043"
      ]
     },
     "execution_count": 25,
     "metadata": {},
     "output_type": "execute_result"
    }
   ],
   "source": [
    "def green(x):\n",
    "    if x == 'Yes' or x == 'No':\n",
    "        return int(x == 'Yes')\n",
    "    if x == 'Male' or x == 'Female':\n",
    "        return int(x == 'Male')\n",
    "    if 'No' in str(x):\n",
    "        return -1\n",
    "    else:\n",
    "        return x\n",
    "df = pd.read_csv(csv)\n",
    "for col in df.columns:\n",
    "    if col != 'InternetService':\n",
    "        df[col] = df[col].apply(green)\n",
    "        \n",
    "conn = sqlite3.connect('mongey.db')\n",
    "df.to_sql('CustomerInfo', conn, if_exists='replace', index=False)\n"
   ]
  }
 ],
 "metadata": {
  "kernelspec": {
   "display_name": "Python 3",
   "language": "python",
   "name": "python3"
  },
  "language_info": {
   "codemirror_mode": {
    "name": "ipython",
    "version": 3
   },
   "file_extension": ".py",
   "mimetype": "text/x-python",
   "name": "python",
   "nbconvert_exporter": "python",
   "pygments_lexer": "ipython3",
   "version": "3.11.5"
  }
 },
 "nbformat": 4,
 "nbformat_minor": 2
}
